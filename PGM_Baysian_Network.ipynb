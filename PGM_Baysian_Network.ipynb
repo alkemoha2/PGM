{
 "cells": [
  {
   "cell_type": "markdown",
   "metadata": {},
   "source": [
    "<center><h2>Artificial and Computational Intelligence (Assignment - 2)</h2></center>"
   ]
  },
  {
   "cell_type": "markdown",
   "metadata": {},
   "source": [
    "## Problem Statement\n",
    "\n",
    "As part of the 2nd Assignment, we'll implement Bayesian Networks and also learn to use the pomegranate library.\n",
    "\n",
    "You are required to create a bayesian network model which would help you predict the probability. The detailed problem description is attached as a PDF as a part of this assignment along with the marking scheme.  \n",
    "\n",
    "### What is a Bayesian Network ?\n",
    "\n",
    "A Bayesian network, Bayes network, belief network, decision network, Bayes(ian) model or probabilistic directed acyclic graphical model is a probabilistic graphical model (a type of statistical model) that represents a set of variables and their conditional dependencies via a directed acyclic graph (DAG). \n",
    "\n",
    "Bayesian networks are ideal for taking an event that occurred and predicting the likelihood that any one of several possible known causes was the contributing factor. For example, a Bayesian network could represent the probabilistic relationships between diseases and symptoms. Given symptoms, the network can be used to compute the probabilities of the presence of various diseases. \n",
    "\n",
    "### Dataset\n",
    "\n",
    "The dataset can be downloaded from https://drive.google.com/drive/folders/1oMtKmmvPkN4O8DmrHMJe6M8CbB93Z5kw .You can access it only using your BITS IDs. Also, the same dataset is attached along with the assignment. \n",
    "\n",
    "#### Dataset Description\n",
    "##### Sample Tuple\n",
    "\n",
    "Y\twon\t5wickets\tlost\t2nd\tvWest_Indies\tHome\t6-Nov-11\n",
    "\n",
    "##### Explanation\n",
    "- The first column represents if Ashwin was in the playing 11 or not. \n",
    "- The second column represents the Result of the match . win indicates India won the match.\n",
    "- The third column represents the Margin of victory / losss.\n",
    "- The fourth column represents the results of the toss. won indicates India won the toss. \n",
    "- The fifth column represents the batting order. If India batted 1st or 2nd. \n",
    "- The sixth column represents the opponent.\n",
    "- The seventh column represents the location of the match. If the match was held in Home(India) or away. \n",
    "- The last column represents the start date of the match.\n",
    "\n",
    "\n",
    "### Evaluation\n",
    "We wish to evaluate based on \n",
    "- coding practices being followed\n",
    "- commenting to explain the code and logic behind doing something\n",
    "- your understanding and explanation of data\n",
    "- how good the model would perform"
   ]
  },
  {
   "cell_type": "markdown",
   "metadata": {},
   "source": [
    "### BITS RollNumbers , Names. \n",
    "ACI_GROUP013\n",
    "\n",
    "LOVEL SETIA 2018ap04502\n",
    "\n",
    "PRAVIN PAWAR 2018ap04559\n",
    "\n",
    "SOLANKI VINAYKUMAR NANUBHAI 2018AP04509\n",
    "\n",
    "KUSHALI ALIAS ALKESH ESSO PRABHU DESSAI 2018ap04534"
   ]
  },
  {
   "cell_type": "markdown",
   "metadata": {},
   "source": [
    "### Assumptions\n",
    "We have calculated all probabilities using data provided and no domain knowledge is used to presume any probabilities.\n",
    "\n",
    "We observe that for Ashwin node, CPT is missing location=\"Home\" and Ashwin Playing =\"N\" since Ashwin has played all home matches. Hence we have assumed probability for this scenario as 0\n",
    "\n",
    "We observe that for Result node, CPT is missing Ashwin Playing =\"N\", batting =\"2nd\" and result=\"won\" since India has not won match batting second where Ashwin has not played. Hence we have assumed probability for this scenario as 0"
   ]
  },
  {
   "cell_type": "markdown",
   "metadata": {},
   "source": [
    "### Import libraries"
   ]
  },
  {
   "cell_type": "code",
   "execution_count": 1,
   "metadata": {},
   "outputs": [],
   "source": [
    "from pomegranate import *\n",
    "import pandas as pd"
   ]
  },
  {
   "cell_type": "markdown",
   "metadata": {},
   "source": [
    "### Read data"
   ]
  },
  {
   "cell_type": "code",
   "execution_count": 2,
   "metadata": {},
   "outputs": [
    {
     "data": {
      "text/html": [
       "<div>\n",
       "<style scoped>\n",
       "    .dataframe tbody tr th:only-of-type {\n",
       "        vertical-align: middle;\n",
       "    }\n",
       "\n",
       "    .dataframe tbody tr th {\n",
       "        vertical-align: top;\n",
       "    }\n",
       "\n",
       "    .dataframe thead th {\n",
       "        text-align: right;\n",
       "    }\n",
       "</style>\n",
       "<table border=\"1\" class=\"dataframe\">\n",
       "  <thead>\n",
       "    <tr style=\"text-align: right;\">\n",
       "      <th></th>\n",
       "      <th>Ashwin</th>\n",
       "      <th>Result</th>\n",
       "      <th>Margin</th>\n",
       "      <th>Toss</th>\n",
       "      <th>Bat</th>\n",
       "      <th>Opposition</th>\n",
       "      <th>Location</th>\n",
       "      <th>Start Date</th>\n",
       "    </tr>\n",
       "  </thead>\n",
       "  <tbody>\n",
       "    <tr>\n",
       "      <th>0</th>\n",
       "      <td>Y</td>\n",
       "      <td>won</td>\n",
       "      <td>5 wickets</td>\n",
       "      <td>lost</td>\n",
       "      <td>2nd</td>\n",
       "      <td>v West Indies</td>\n",
       "      <td>Home</td>\n",
       "      <td>2011-11-06</td>\n",
       "    </tr>\n",
       "    <tr>\n",
       "      <th>1</th>\n",
       "      <td>Y</td>\n",
       "      <td>won</td>\n",
       "      <td>inns &amp; 15 runs</td>\n",
       "      <td>won</td>\n",
       "      <td>1st</td>\n",
       "      <td>v West Indies</td>\n",
       "      <td>Home</td>\n",
       "      <td>2011-11-14</td>\n",
       "    </tr>\n",
       "    <tr>\n",
       "      <th>2</th>\n",
       "      <td>Y</td>\n",
       "      <td>draw</td>\n",
       "      <td>-</td>\n",
       "      <td>lost</td>\n",
       "      <td>2nd</td>\n",
       "      <td>v West Indies</td>\n",
       "      <td>Home</td>\n",
       "      <td>2011-11-22</td>\n",
       "    </tr>\n",
       "    <tr>\n",
       "      <th>3</th>\n",
       "      <td>Y</td>\n",
       "      <td>lost</td>\n",
       "      <td>122 runs</td>\n",
       "      <td>lost</td>\n",
       "      <td>2nd</td>\n",
       "      <td>v Australia</td>\n",
       "      <td>Away</td>\n",
       "      <td>2011-12-26</td>\n",
       "    </tr>\n",
       "    <tr>\n",
       "      <th>4</th>\n",
       "      <td>Y</td>\n",
       "      <td>lost</td>\n",
       "      <td>inns &amp; 68 runs</td>\n",
       "      <td>won</td>\n",
       "      <td>1st</td>\n",
       "      <td>v Australia</td>\n",
       "      <td>Away</td>\n",
       "      <td>2012-01-03</td>\n",
       "    </tr>\n",
       "  </tbody>\n",
       "</table>\n",
       "</div>"
      ],
      "text/plain": [
       "  Ashwin Result          Margin  Toss  Bat     Opposition Location Start Date\n",
       "0      Y    won       5 wickets  lost  2nd  v West Indies     Home 2011-11-06\n",
       "1      Y    won  inns & 15 runs   won  1st  v West Indies     Home 2011-11-14\n",
       "2      Y   draw               -  lost  2nd  v West Indies     Home 2011-11-22\n",
       "3      Y   lost        122 runs  lost  2nd    v Australia     Away 2011-12-26\n",
       "4      Y   lost  inns & 68 runs   won  1st    v Australia     Away 2012-01-03"
      ]
     },
     "execution_count": 2,
     "metadata": {},
     "output_type": "execute_result"
    }
   ],
   "source": [
    "df = pd.read_excel(\"India_Test_Stats.xlsx\")\n",
    "df.head()"
   ]
  },
  {
   "cell_type": "code",
   "execution_count": 3,
   "metadata": {},
   "outputs": [
    {
     "data": {
      "text/plain": [
       "(85, 8)"
      ]
     },
     "execution_count": 3,
     "metadata": {},
     "output_type": "execute_result"
    }
   ],
   "source": [
    "df.shape"
   ]
  },
  {
   "cell_type": "markdown",
   "metadata": {},
   "source": [
    "### Pre-process data\n"
   ]
  },
  {
   "cell_type": "markdown",
   "metadata": {},
   "source": [
    "Observation: No duplicate data"
   ]
  },
  {
   "cell_type": "code",
   "execution_count": 4,
   "metadata": {
    "scrolled": false
   },
   "outputs": [
    {
     "data": {
      "text/plain": [
       "0"
      ]
     },
     "execution_count": 4,
     "metadata": {},
     "output_type": "execute_result"
    }
   ],
   "source": [
    "df.duplicated().sum()"
   ]
  },
  {
   "cell_type": "markdown",
   "metadata": {},
   "source": [
    "- Start date, Margin are removed since they dont play any role in determining result\n",
    "- Opposition is removed since we are being asked to consider only following 5 variables as nodes for Bayesian network:\n",
    "     \n",
    "     a. Test Location\n",
    "     \n",
    "     b. Ashwin Playing\n",
    "     \n",
    "     c. Toss\n",
    "     \n",
    "     d. Result\n",
    "     \n",
    "     e. Batting"
   ]
  },
  {
   "cell_type": "code",
   "execution_count": 5,
   "metadata": {},
   "outputs": [],
   "source": [
    "df = df.drop('Start Date', axis=1)\n",
    "df = df.drop('Margin', axis=1)\n",
    "df = df.drop('Opposition', axis=1)"
   ]
  },
  {
   "cell_type": "markdown",
   "metadata": {},
   "source": [
    "Observation: No null values"
   ]
  },
  {
   "cell_type": "code",
   "execution_count": 6,
   "metadata": {
    "scrolled": true
   },
   "outputs": [
    {
     "data": {
      "text/plain": [
       "Ashwin      False\n",
       "Result      False\n",
       "Toss        False\n",
       "Bat         False\n",
       "Location    False\n",
       "dtype: bool"
      ]
     },
     "execution_count": 6,
     "metadata": {},
     "output_type": "execute_result"
    }
   ],
   "source": [
    "df.isnull().any()"
   ]
  },
  {
   "cell_type": "markdown",
   "metadata": {},
   "source": [
    "### Data Description"
   ]
  },
  {
   "cell_type": "code",
   "execution_count": 7,
   "metadata": {},
   "outputs": [
    {
     "data": {
      "text/html": [
       "<div>\n",
       "<style scoped>\n",
       "    .dataframe tbody tr th:only-of-type {\n",
       "        vertical-align: middle;\n",
       "    }\n",
       "\n",
       "    .dataframe tbody tr th {\n",
       "        vertical-align: top;\n",
       "    }\n",
       "\n",
       "    .dataframe thead th {\n",
       "        text-align: right;\n",
       "    }\n",
       "</style>\n",
       "<table border=\"1\" class=\"dataframe\">\n",
       "  <thead>\n",
       "    <tr style=\"text-align: right;\">\n",
       "      <th></th>\n",
       "      <th>Ashwin</th>\n",
       "      <th>Result</th>\n",
       "      <th>Toss</th>\n",
       "      <th>Bat</th>\n",
       "      <th>Location</th>\n",
       "    </tr>\n",
       "  </thead>\n",
       "  <tbody>\n",
       "    <tr>\n",
       "      <th>0</th>\n",
       "      <td>Y</td>\n",
       "      <td>won</td>\n",
       "      <td>lost</td>\n",
       "      <td>2nd</td>\n",
       "      <td>Home</td>\n",
       "    </tr>\n",
       "    <tr>\n",
       "      <th>1</th>\n",
       "      <td>Y</td>\n",
       "      <td>won</td>\n",
       "      <td>won</td>\n",
       "      <td>1st</td>\n",
       "      <td>Home</td>\n",
       "    </tr>\n",
       "    <tr>\n",
       "      <th>2</th>\n",
       "      <td>Y</td>\n",
       "      <td>draw</td>\n",
       "      <td>lost</td>\n",
       "      <td>2nd</td>\n",
       "      <td>Home</td>\n",
       "    </tr>\n",
       "    <tr>\n",
       "      <th>3</th>\n",
       "      <td>Y</td>\n",
       "      <td>lost</td>\n",
       "      <td>lost</td>\n",
       "      <td>2nd</td>\n",
       "      <td>Away</td>\n",
       "    </tr>\n",
       "    <tr>\n",
       "      <th>4</th>\n",
       "      <td>Y</td>\n",
       "      <td>lost</td>\n",
       "      <td>won</td>\n",
       "      <td>1st</td>\n",
       "      <td>Away</td>\n",
       "    </tr>\n",
       "  </tbody>\n",
       "</table>\n",
       "</div>"
      ],
      "text/plain": [
       "  Ashwin Result  Toss  Bat Location\n",
       "0      Y    won  lost  2nd     Home\n",
       "1      Y    won   won  1st     Home\n",
       "2      Y   draw  lost  2nd     Home\n",
       "3      Y   lost  lost  2nd     Away\n",
       "4      Y   lost   won  1st     Away"
      ]
     },
     "execution_count": 7,
     "metadata": {},
     "output_type": "execute_result"
    }
   ],
   "source": [
    "df.head()"
   ]
  },
  {
   "cell_type": "code",
   "execution_count": 8,
   "metadata": {},
   "outputs": [
    {
     "data": {
      "text/plain": [
       "(85, 5)"
      ]
     },
     "execution_count": 8,
     "metadata": {},
     "output_type": "execute_result"
    }
   ],
   "source": [
    "df.shape"
   ]
  },
  {
   "cell_type": "code",
   "execution_count": 9,
   "metadata": {
    "scrolled": true
   },
   "outputs": [
    {
     "data": {
      "text/html": [
       "<div>\n",
       "<style scoped>\n",
       "    .dataframe tbody tr th:only-of-type {\n",
       "        vertical-align: middle;\n",
       "    }\n",
       "\n",
       "    .dataframe tbody tr th {\n",
       "        vertical-align: top;\n",
       "    }\n",
       "\n",
       "    .dataframe thead th {\n",
       "        text-align: right;\n",
       "    }\n",
       "</style>\n",
       "<table border=\"1\" class=\"dataframe\">\n",
       "  <thead>\n",
       "    <tr style=\"text-align: right;\">\n",
       "      <th></th>\n",
       "      <th>Ashwin</th>\n",
       "      <th>Result</th>\n",
       "      <th>Toss</th>\n",
       "      <th>Bat</th>\n",
       "      <th>Location</th>\n",
       "    </tr>\n",
       "  </thead>\n",
       "  <tbody>\n",
       "    <tr>\n",
       "      <th>count</th>\n",
       "      <td>85</td>\n",
       "      <td>85</td>\n",
       "      <td>85</td>\n",
       "      <td>85</td>\n",
       "      <td>85</td>\n",
       "    </tr>\n",
       "    <tr>\n",
       "      <th>unique</th>\n",
       "      <td>2</td>\n",
       "      <td>3</td>\n",
       "      <td>2</td>\n",
       "      <td>2</td>\n",
       "      <td>2</td>\n",
       "    </tr>\n",
       "    <tr>\n",
       "      <th>top</th>\n",
       "      <td>Y</td>\n",
       "      <td>won</td>\n",
       "      <td>lost</td>\n",
       "      <td>1st</td>\n",
       "      <td>Home</td>\n",
       "    </tr>\n",
       "    <tr>\n",
       "      <th>freq</th>\n",
       "      <td>70</td>\n",
       "      <td>47</td>\n",
       "      <td>45</td>\n",
       "      <td>46</td>\n",
       "      <td>43</td>\n",
       "    </tr>\n",
       "  </tbody>\n",
       "</table>\n",
       "</div>"
      ],
      "text/plain": [
       "       Ashwin Result  Toss  Bat Location\n",
       "count      85     85    85   85       85\n",
       "unique      2      3     2    2        2\n",
       "top         Y    won  lost  1st     Home\n",
       "freq       70     47    45   46       43"
      ]
     },
     "execution_count": 9,
     "metadata": {},
     "output_type": "execute_result"
    }
   ],
   "source": [
    "df.describe(include='all')"
   ]
  },
  {
   "cell_type": "markdown",
   "metadata": {},
   "source": [
    "### Construction of Bayesian Network"
   ]
  },
  {
   "cell_type": "markdown",
   "metadata": {},
   "source": [
    "Solution for part 1 "
   ]
  },
  {
   "cell_type": "code",
   "execution_count": 10,
   "metadata": {},
   "outputs": [],
   "source": [
    "def calc_prior_probility(arr):\n",
    "    prob = {}\n",
    "    uniqueValues = arr.unique()\n",
    "    rowCount = arr.count()\n",
    "    summary = arr.value_counts() \n",
    "    for uniqueItem in uniqueValues:\n",
    "        prob[uniqueItem] = float(summary[uniqueItem]/rowCount)\n",
    "    return prob"
   ]
  },
  {
   "cell_type": "markdown",
   "metadata": {},
   "source": [
    "Solution for part 2 "
   ]
  },
  {
   "cell_type": "code",
   "execution_count": 11,
   "metadata": {},
   "outputs": [],
   "source": [
    "# calculate conditional probability of arr2 given arr1\n",
    "def calc_conditional_probility_2arrays(df, arr1, arr2):\n",
    "    prob = df.groupby(arr1)[arr2].value_counts() / df.groupby(arr1)[arr2].count()\n",
    "    list = [[a, b, c] for (a,b), c in prob.to_dict().items()]\n",
    "    return list\n",
    "# calculate conditional probability of arr3 given arr1, arr2, arr3\n",
    "def calc_conditional_probility_3arrays(df, arr1, arr2, arr3):\n",
    "\n",
    "    prob = df.groupby([arr1,arr2])[arr3].value_counts() / df.groupby([arr1,arr2])[arr3].count()\n",
    "    list = [[a, b, c, d] for (a,b,c), d in prob.to_dict().items()]\n",
    "    return list"
   ]
  },
  {
   "cell_type": "markdown",
   "metadata": {},
   "source": [
    "Solution for part 3 "
   ]
  },
  {
   "cell_type": "markdown",
   "metadata": {},
   "source": [
    "Prior probability for toss. We have gone ahead with taking prior probability based on data which is close to 50% which is actual prior probability of winning or losing a toss."
   ]
  },
  {
   "cell_type": "code",
   "execution_count": 12,
   "metadata": {},
   "outputs": [
    {
     "data": {
      "text/plain": [
       "{'lost': 0.5294117647058824, 'won': 0.47058823529411764}"
      ]
     },
     "execution_count": 12,
     "metadata": {},
     "output_type": "execute_result"
    }
   ],
   "source": [
    "tossPrior = calc_prior_probility(df['Toss'])\n",
    "tossPrior"
   ]
  },
  {
   "cell_type": "markdown",
   "metadata": {},
   "source": [
    "Prior probability of location based on data."
   ]
  },
  {
   "cell_type": "code",
   "execution_count": 13,
   "metadata": {},
   "outputs": [
    {
     "data": {
      "text/plain": [
       "{'Home': 0.5058823529411764, 'Away': 0.49411764705882355}"
      ]
     },
     "execution_count": 13,
     "metadata": {},
     "output_type": "execute_result"
    }
   ],
   "source": [
    "locationPrior = calc_prior_probility(df['Location'])\n",
    "locationPrior"
   ]
  },
  {
   "cell_type": "markdown",
   "metadata": {},
   "source": [
    "Conditional probability of Ashwin playing based on location. We observed that Ashwin plays in 100% home matches and % goes down when matche are played away. Hence we concluded that Ashwin playing or not depends on location."
   ]
  },
  {
   "cell_type": "code",
   "execution_count": 14,
   "metadata": {},
   "outputs": [
    {
     "data": {
      "text/plain": [
       "[['Away', 'Y', 0.6428571428571429],\n",
       " ['Away', 'N', 0.35714285714285715],\n",
       " ['Home', 'Y', 1.0]]"
      ]
     },
     "execution_count": 14,
     "metadata": {},
     "output_type": "execute_result"
    }
   ],
   "source": [
    "ashwinCond = calc_conditional_probility_2arrays(df, 'Location', 'Ashwin')\n",
    "ashwinCond"
   ]
  },
  {
   "cell_type": "markdown",
   "metadata": {},
   "source": [
    "Conditional probability of batting order based on toss. Based on data we observe that batting order depends on toss result."
   ]
  },
  {
   "cell_type": "code",
   "execution_count": 15,
   "metadata": {},
   "outputs": [
    {
     "data": {
      "text/plain": [
       "[['lost', '2nd', 0.7777777777777778],\n",
       " ['lost', '1st', 0.2222222222222222],\n",
       " ['won', '1st', 0.9],\n",
       " ['won', '2nd', 0.1]]"
      ]
     },
     "execution_count": 15,
     "metadata": {},
     "output_type": "execute_result"
    }
   ],
   "source": [
    "batCond = calc_conditional_probility_2arrays(df, 'Toss','Bat')\n",
    "batCond"
   ]
  },
  {
   "cell_type": "markdown",
   "metadata": {},
   "source": [
    "Conditional probability of result based on Ashwin playing and batting order."
   ]
  },
  {
   "cell_type": "code",
   "execution_count": 16,
   "metadata": {},
   "outputs": [
    {
     "data": {
      "text/plain": [
       "[['N', '1st', 'won', 0.5555555555555556],\n",
       " ['N', '1st', 'draw', 0.2222222222222222],\n",
       " ['N', '1st', 'lost', 0.2222222222222222],\n",
       " ['N', '2nd', 'lost', 0.8333333333333334],\n",
       " ['N', '2nd', 'draw', 0.16666666666666666],\n",
       " ['Y', '1st', 'won', 0.7027027027027027],\n",
       " ['Y', '1st', 'lost', 0.1891891891891892],\n",
       " ['Y', '1st', 'draw', 0.10810810810810811],\n",
       " ['Y', '2nd', 'won', 0.48484848484848486],\n",
       " ['Y', '2nd', 'draw', 0.2727272727272727],\n",
       " ['Y', '2nd', 'lost', 0.24242424242424243]]"
      ]
     },
     "execution_count": 16,
     "metadata": {},
     "output_type": "execute_result"
    }
   ],
   "source": [
    "resultCond = calc_conditional_probility_3arrays(df, 'Ashwin','Bat', 'Result')\n",
    "resultCond"
   ]
  },
  {
   "cell_type": "markdown",
   "metadata": {},
   "source": [
    "We observe that for Ashwin node, CPT is missing location=\"Home\" and Ashwin Playing =\"N\" since Ashwin has always played all home matches. Hence we have assumed probability for this scenario as 0"
   ]
  },
  {
   "cell_type": "code",
   "execution_count": 17,
   "metadata": {},
   "outputs": [],
   "source": [
    "ashwinCond.append(['Home', 'N', 0.0])"
   ]
  },
  {
   "cell_type": "markdown",
   "metadata": {},
   "source": [
    "We observe that for Result node, CPT is missing Ashwin Playing =\"N\", batting =\"2nd\" and result=\"won\" since India has not won match batting second where Ashwin has not played. Hence we have assumed probability for this scenario as 0"
   ]
  },
  {
   "cell_type": "code",
   "execution_count": 18,
   "metadata": {},
   "outputs": [],
   "source": [
    "resultCond.append(['N','2nd','won',0.0])"
   ]
  },
  {
   "cell_type": "code",
   "execution_count": 19,
   "metadata": {},
   "outputs": [],
   "source": [
    "location = DiscreteDistribution( locationPrior )\n",
    "toss = DiscreteDistribution(tossPrior)\n",
    "bat = ConditionalProbabilityTable(batCond, [toss] )\n",
    "ashwin = ConditionalProbabilityTable(ashwinCond, [location] )\n",
    "result = ConditionalProbabilityTable(resultCond, [ashwin,bat])"
   ]
  },
  {
   "cell_type": "code",
   "execution_count": 20,
   "metadata": {},
   "outputs": [],
   "source": [
    "s1 = State( location, name=\"location\" )\n",
    "s2 = State( ashwin, name=\"ashwin\" )\n",
    "s3 = State( toss, name=\"toss\" )\n",
    "s4 = State( bat, name=\"bat\" )\n",
    "s5 = State(result, name=\"result\" )"
   ]
  },
  {
   "cell_type": "code",
   "execution_count": 21,
   "metadata": {},
   "outputs": [],
   "source": [
    "network = BayesianNetwork( \"Ashwin selection\" )\n",
    "network.add_states(s1, s2, s3,s4,s5)\n",
    "network.add_edge(s1, s2)\n",
    "network.add_edge(s2, s5)\n",
    "network.add_edge(s3, s4)\n",
    "network.add_edge(s4, s5)\n",
    "network.bake()"
   ]
  },
  {
   "cell_type": "markdown",
   "metadata": {},
   "source": [
    "### Solution for part 4"
   ]
  },
  {
   "cell_type": "markdown",
   "metadata": {},
   "source": [
    " a) Probability of India winning, batting 2nd, Ashwin playing"
   ]
  },
  {
   "cell_type": "code",
   "execution_count": 22,
   "metadata": {},
   "outputs": [
    {
     "name": "stdout",
     "output_type": "stream",
     "text": [
      "Probability of India winning, batting 2nd, Ashwin playing: 0.48\n"
     ]
    }
   ],
   "source": [
    "p=network.probability([None,'Y',None,'2nd','won'])\n",
    "print('Probability of India winning, batting 2nd, Ashwin playing: {0:.2f}'.format(p))"
   ]
  },
  {
   "cell_type": "markdown",
   "metadata": {},
   "source": [
    "b) Probability of India winning, batting 2nd, Ashwin not playing"
   ]
  },
  {
   "cell_type": "code",
   "execution_count": 23,
   "metadata": {},
   "outputs": [
    {
     "name": "stdout",
     "output_type": "stream",
     "text": [
      "Probability of India winning, batting 2nd, Ashwin not playing: 0.00\n"
     ]
    }
   ],
   "source": [
    "p=network.probability([None,'N',None,'2nd','won'])\n",
    "print('Probability of India winning, batting 2nd, Ashwin not playing: {0:.2f}'.format(p))"
   ]
  },
  {
   "cell_type": "markdown",
   "metadata": {},
   "source": [
    "c) Probability of India losing, batting 2nd, Ashwin playing"
   ]
  },
  {
   "cell_type": "code",
   "execution_count": 24,
   "metadata": {},
   "outputs": [
    {
     "name": "stdout",
     "output_type": "stream",
     "text": [
      "Probability of India losing, batting 2nd, Ashwin playing: 0.24\n"
     ]
    }
   ],
   "source": [
    "p=network.probability([None,'Y',None,'2nd','lost'])\n",
    "print('Probability of India losing, batting 2nd, Ashwin playing: {0:.2f}'.format(p))"
   ]
  },
  {
   "cell_type": "markdown",
   "metadata": {},
   "source": [
    "d) Probability of India losing, batting 2nd, Ashwin not playing"
   ]
  },
  {
   "cell_type": "code",
   "execution_count": 25,
   "metadata": {},
   "outputs": [
    {
     "name": "stdout",
     "output_type": "stream",
     "text": [
      "Probability of India losing, batting 2nd, Ashwin not playing: 0.83\n"
     ]
    }
   ],
   "source": [
    "p=network.probability([None,'N',None,'2nd','lost'])\n",
    "print('Probability of India losing, batting 2nd, Ashwin not playing: {0:.2f}'.format(p))"
   ]
  },
  {
   "cell_type": "markdown",
   "metadata": {},
   "source": [
    "### Conclusion"
   ]
  },
  {
   "cell_type": "markdown",
   "metadata": {},
   "source": [
    "There are 48% chances of India winning with India batting second and Ashwin playing.\n",
    "\n",
    "There are 0% chances of India winning with India batting second and Ashwin not playing.\n",
    "\n",
    "There are 24% chances of India losing with India batting second and Ashwin playing.\n",
    "\n",
    "There are 83% chances of India losing with India batting second and Ashwin not playing.\n",
    "\n",
    "These numbers are in favour of Ashwin's case and should aid selectors in making right decision after considering all other factors."
   ]
  },
  {
   "cell_type": "markdown",
   "metadata": {},
   "source": [
    "<h3><center> End!</center></h3>"
   ]
  }
 ],
 "metadata": {
  "kernelspec": {
   "display_name": "Python 3",
   "language": "python",
   "name": "python3"
  },
  "language_info": {
   "codemirror_mode": {
    "name": "ipython",
    "version": 3
   },
   "file_extension": ".py",
   "mimetype": "text/x-python",
   "name": "python",
   "nbconvert_exporter": "python",
   "pygments_lexer": "ipython3",
   "version": "3.7.3"
  }
 },
 "nbformat": 4,
 "nbformat_minor": 2
}
